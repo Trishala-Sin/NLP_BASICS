{
 "cells": [
  {
   "cell_type": "code",
   "execution_count": 1,
   "metadata": {},
   "outputs": [],
   "source": [
    "import re\n",
    "from collections import Counter"
   ]
  },
  {
   "cell_type": "code",
   "execution_count": 2,
   "metadata": {},
   "outputs": [],
   "source": [
    "# function to tokenise words\n",
    "def words(document):\n",
    "    \"Convert text to lower case and tokenise the document\"\n",
    "    return re.findall(r'\\w+', document.lower())"
   ]
  },
  {
   "cell_type": "code",
   "execution_count": 3,
   "metadata": {},
   "outputs": [],
   "source": [
    "# create a frequency table of all the words of the document\n",
    "all_words = Counter(words(open('big.txt').read()))"
   ]
  },
  {
   "cell_type": "code",
   "execution_count": 4,
   "metadata": {},
   "outputs": [
    {
     "data": {
      "text/plain": [
       "135"
      ]
     },
     "execution_count": 4,
     "metadata": {},
     "output_type": "execute_result"
    }
   ],
   "source": [
    "# check frequency of a random word, say, 'chair'\n",
    "all_words['chair']"
   ]
  },
  {
   "cell_type": "code",
   "execution_count": 5,
   "metadata": {},
   "outputs": [
    {
     "data": {
      "text/plain": [
       "[('the', 79809),\n",
       " ('of', 40024),\n",
       " ('and', 38312),\n",
       " ('to', 28765),\n",
       " ('in', 22023),\n",
       " ('a', 21124),\n",
       " ('that', 12512),\n",
       " ('he', 12401),\n",
       " ('was', 11410),\n",
       " ('it', 10681)]"
      ]
     },
     "execution_count": 5,
     "metadata": {},
     "output_type": "execute_result"
    }
   ],
   "source": [
    "# look at top 10 frequent words\n",
    "all_words.most_common(10)"
   ]
  },
  {
   "cell_type": "code",
   "execution_count": 6,
   "metadata": {},
   "outputs": [],
   "source": [
    "def edits_one(word):\n",
    "    \"Create all edits that are one edit away from `word`.\"\n",
    "    alphabets    = 'abcdefghijklmnopqrstuvwxyz'\n",
    "    splits     = [(word[:i], word[i:])                   for i in range(len(word) + 1)]\n",
    "    deletes    = [left + right[1:]                       for left, right in splits if right]\n",
    "    inserts    = [left + c + right                       for left, right in splits for c in alphabets]\n",
    "    replaces   = [left + c + right[1:]                   for left, right in splits if right for c in alphabets]\n",
    "    transposes = [left + right[1] + right[0] + right[2:] for left, right in splits if len(right)>1]\n",
    "    return set(deletes + inserts + replaces + transposes)"
   ]
  },
  {
   "cell_type": "code",
   "execution_count": 7,
   "metadata": {},
   "outputs": [],
   "source": [
    "def edits_two(word):\n",
    "    \"Create all edits that are two edits away from `word`.\"\n",
    "    return (e2 for e1 in edits_one(word) for e2 in edits_one(e1))"
   ]
  },
  {
   "cell_type": "code",
   "execution_count": 8,
   "metadata": {},
   "outputs": [],
   "source": [
    "def known(words):\n",
    "    \"The subset of `words` that appear in the `all_words`.\"\n",
    "    return set(word for word in words if word in all_words)"
   ]
  },
  {
   "cell_type": "code",
   "execution_count": 9,
   "metadata": {},
   "outputs": [],
   "source": [
    "def possible_corrections(word):\n",
    "    \"Generate possible spelling corrections for word.\"\n",
    "    return (known([word]) or known(edits_one(word)) or known(edits_two(word)) or [word])"
   ]
  },
  {
   "cell_type": "code",
   "execution_count": 10,
   "metadata": {},
   "outputs": [],
   "source": [
    "def prob(word, N=sum(all_words.values())): \n",
    "    \"Probability of `word`: Number of appearances of 'word' / total number of tokens\"\n",
    "    return all_words[word] / N"
   ]
  },
  {
   "cell_type": "code",
   "execution_count": 11,
   "metadata": {},
   "outputs": [
    {
     "name": "stdout",
     "output_type": "stream",
     "text": [
      "336\n",
      "{'monaey', 'cmonney', 'monpney', 'monnley', 'monnjey', 'monnzey', 'monnay', 'monnwy', 'monnex', 'monnmy', 'mqonney', 'mionney', 'mfonney', 'monneyx', 'monsney', 'monneyy', 'monfey', 'monnsey', 'monnek', 'monbney', 'moneey', 'monnwey', 'lonney', 'mkonney', 'monnev', 'uonney', 'monned', 'monnejy', 'mowney', 'mzonney', 'mocnney', 'rmonney', 'mknney', 'mogney', 'moeney', 'mocney', 'moanney', 'monngey', 'mjonney', 'monmney', 'jonney', 'moenney', 'monneyk', 'mnonney', 'sonney', 'moneney', 'monnjy', 'mojnney', 'monlney', 'mhnney', 'monnef', 'modnney', 'mxnney', 'monneyv', 'monnevy', 'monnby', 'monneyi', 'monny', 'monnhey', 'moznney', 'monneg', 'monnoy', 'mlnney', 'morney', 'molney', 'moknney', 'monneyu', 'eonney', 'mronney', 'monnxey', 'monnea', 'ymonney', 'monnee', 'money', 'monniey', 'monmey', 'nmonney', 'moneny', 'monzney', 'monnbey', 'gmonney', 'manney', 'monneym', 'momnney', 'monnly', 'monneyh', 'meonney', 'monhney', 'monvey', 'monnmey', 'monnely', 'bmonney', 'ronney', 'onney', 'wonney', 'monnzy', 'monnemy', 'msonney', 'monniy', 'montey', 'monnky', 'monnel', 'monnem', 'mongey', 'monnezy', 'monnez', 'donney', 'monnecy', 'monneyq', 'fonney', 'monneny', 'mynney', 'monwey', 'monneoy', 'yonney', 'monneby', 'wmonney', 'xmonney', 'mznney', 'monqney', 'oonney', 'moiney', 'menney', 'monneh', 'monnxy', 'mponney', 'monnehy', 'mdnney', 'monnew', 'konney', 'kmonney', 'monnfey', 'mnney', 'bonney', 'maonney', 'moncey', 'monuey', 'monpey', 'monnvy', 'mounney', 'vmonney', 'monjney', 'myonney', 'tonney', 'hmonney', 'monnuey', 'moaney', 'monneyr', 'mobnney', 'zonney', 'monneyb', 'omonney', 'jmonney', 'mondey', 'mofnney', 'monnsy', 'mmonney', 'monnec', 'dmonney', 'mvonney', 'monnety', 'monnen', 'modney', 'monneyf', 'mononey', 'monnepy', 'amonney', 'monneyg', 'monncey', 'monnpey', 'mbonney', 'mosnney', 'mqnney', 'mokney', 'mvnney', 'aonney', 'mjnney', 'mozney', 'monneqy', 'monneye', 'monaney', 'zmonney', 'monneyo', 'imonney', 'monnfy', 'moxnney', 'monncy', 'moqney', 'movnney', 'monnvey', 'xonney', 'mrnney', 'monkney', 'monnoey', 'monnyy', 'monney', 'monnep', 'honney', 'montney', 'monneiy', 'omnney', 'monneyn', 'monneb', 'momney', 'mtonney', 'monnhy', 'monnty', 'gonney', 'mojney', 'monnqy', 'monqey', 'monnes', 'monkey', 'monnery', 'mopnney', 'nonney', 'monneey', 'mooney', 'monneq', 'minney', 'mopney', 'mognney', 'monbey', 'fmonney', 'monnedy', 'msnney', 'mtnney', 'monley', 'moqnney', 'moinney', 'motnney', 'monneya', 'monnaey', 'monnyey', 'moynney', 'mohnney', 'mofney', 'monndy', 'monnpy', 'mlonney', 'pmonney', 'monner', 'monjey', 'umonney', 'monwney', 'lmonney', 'monneu', 'monvney', 'qonney', 'monneuy', 'monneyt', 'mconney', 'monnesy', 'monsey', 'mcnney', 'monnet', 'monnqey', 'monrney', 'monnrey', 'tmonney', 'conney', 'monnny', 'vonney', 'moonney', 'monxey', 'mgonney', 'moncney', 'monnefy', 'monnewy', 'moyney', 'monneyd', 'monneo', 'mornney', 'munney', 'monneyz', 'monneys', 'mondney', 'motney', 'mobney', 'moxney', 'monneyw', 'mohney', 'monneyj', 'ionney', 'mdonney', 'monngy', 'monnej', 'mgnney', 'mmnney', 'mhonney', 'moniney', 'monneyc', 'monntey', 'monnney', 'monnei', 'emonney', 'moniey', 'mownney', 'monuney', 'monneyl', 'mongney', 'monyney', 'mnnney', 'monnkey', 'ponney', 'monneky', 'mouney', 'monoey', 'qmonney', 'monxney', 'smonney', 'monneyp', 'monhey', 'monndey', 'monnry', 'monneay', 'mwnney', 'mnoney', 'movney', 'monrey', 'monnye', 'mfnney', 'monnuy', 'molnney', 'monyey', 'monnexy', 'mwonney', 'mbnney', 'mosney', 'monnegy', 'monne', 'mxonney', 'monzey', 'monfney', 'mpnney', 'muonney'}\n"
     ]
    }
   ],
   "source": [
    "print(len(set(edits_one(\"monney\"))))\n",
    "print(edits_one(\"monney\"))"
   ]
  },
  {
   "cell_type": "code",
   "execution_count": 12,
   "metadata": {},
   "outputs": [
    {
     "name": "stdout",
     "output_type": "stream",
     "text": [
      "{'money', 'monkey'}\n"
     ]
    }
   ],
   "source": [
    "print(known(edits_one(\"monney\")))"
   ]
  },
  {
   "cell_type": "code",
   "execution_count": 13,
   "metadata": {},
   "outputs": [
    {
     "name": "stdout",
     "output_type": "stream",
     "text": [
      "51013\n",
      "{'money', 'monkey'}\n"
     ]
    }
   ],
   "source": [
    "# Let's look at words that are two edits away\n",
    "print(len(set(edits_two(\"monney\"))))\n",
    "print(known(edits_one(\"monney\")))"
   ]
  },
  {
   "cell_type": "code",
   "execution_count": 14,
   "metadata": {},
   "outputs": [
    {
     "name": "stdout",
     "output_type": "stream",
     "text": [
      "{'money', 'monkey'}\n"
     ]
    }
   ],
   "source": [
    "# Let's look at possible corrections of a word\n",
    "print(possible_corrections(\"monney\"))"
   ]
  },
  {
   "cell_type": "code",
   "execution_count": 15,
   "metadata": {},
   "outputs": [
    {
     "name": "stdout",
     "output_type": "stream",
     "text": [
      "0.0002922233626303688\n",
      "5.378344097491451e-06\n"
     ]
    }
   ],
   "source": [
    "# Let's look at probability of a word\n",
    "print(prob(\"money\"))\n",
    "print(prob(\"monkey\"))"
   ]
  },
  {
   "cell_type": "code",
   "execution_count": 16,
   "metadata": {},
   "outputs": [],
   "source": [
    "def spell_check(word):\n",
    "    \"Print the most probable spelling correction for `word` out of all the `possible_corrections`\"\n",
    "    correct_word = max(possible_corrections(word), key=prob)\n",
    "    if correct_word != word:\n",
    "        return \"Did you mean \" + correct_word + \"?\"\n",
    "    else:\n",
    "        return \"Correct spelling.\""
   ]
  },
  {
   "cell_type": "code",
   "execution_count": 17,
   "metadata": {},
   "outputs": [
    {
     "name": "stdout",
     "output_type": "stream",
     "text": [
      "Did you mean money?\n"
     ]
    }
   ],
   "source": [
    "# test spell check\n",
    "print(spell_check(\"monney\"))"
   ]
  },
  {
   "cell_type": "code",
   "execution_count": 41,
   "metadata": {},
   "outputs": [],
   "source": [
    "lst = edits_one('emfasize')"
   ]
  },
  {
   "cell_type": "code",
   "execution_count": 44,
   "metadata": {},
   "outputs": [
    {
     "ename": "AttributeError",
     "evalue": "'set' object has no attribute 'unique'",
     "output_type": "error",
     "traceback": [
      "\u001b[1;31m---------------------------------------------------------------------------\u001b[0m",
      "\u001b[1;31mAttributeError\u001b[0m                            Traceback (most recent call last)",
      "\u001b[1;32m<ipython-input-44-19b10ddc80cb>\u001b[0m in \u001b[0;36m<module>\u001b[1;34m\u001b[0m\n\u001b[1;32m----> 1\u001b[1;33m \u001b[0mprint\u001b[0m\u001b[1;33m(\u001b[0m\u001b[0mlen\u001b[0m\u001b[1;33m(\u001b[0m\u001b[0mlst\u001b[0m\u001b[1;33m.\u001b[0m\u001b[0munique\u001b[0m\u001b[1;33m)\u001b[0m\u001b[1;33m)\u001b[0m\u001b[1;33m\u001b[0m\u001b[1;33m\u001b[0m\u001b[0m\n\u001b[0m",
      "\u001b[1;31mAttributeError\u001b[0m: 'set' object has no attribute 'unique'"
     ]
    }
   ],
   "source": [
    "print(len(lst))"
   ]
  },
  {
   "cell_type": "code",
   "execution_count": 47,
   "metadata": {},
   "outputs": [],
   "source": [
    "from collections import Counter"
   ]
  },
  {
   "cell_type": "code",
   "execution_count": 48,
   "metadata": {},
   "outputs": [
    {
     "data": {
      "text/plain": [
       "Counter({'ezfasize': 1,\n",
       "         'emfasoze': 1,\n",
       "         'emfasinze': 1,\n",
       "         'edmfasize': 1,\n",
       "         'emjfasize': 1,\n",
       "         'emyfasize': 1,\n",
       "         'eamfasize': 1,\n",
       "         'emfahize': 1,\n",
       "         'emfasxze': 1,\n",
       "         'emfasizet': 1,\n",
       "         'esfasize': 1,\n",
       "         'emfasiae': 1,\n",
       "         'emfasizfe': 1,\n",
       "         'emfasizd': 1,\n",
       "         'emkfasize': 1,\n",
       "         'emfasrize': 1,\n",
       "         'efasize': 1,\n",
       "         'femfasize': 1,\n",
       "         'emfasire': 1,\n",
       "         'eyfasize': 1,\n",
       "         'emyasize': 1,\n",
       "         'emfaspize': 1,\n",
       "         'eufasize': 1,\n",
       "         'emfasipe': 1,\n",
       "         'emgasize': 1,\n",
       "         'emqfasize': 1,\n",
       "         'emfaoize': 1,\n",
       "         'emfasizeg': 1,\n",
       "         'emfatize': 1,\n",
       "         'emfqsize': 1,\n",
       "         'emfasizje': 1,\n",
       "         'emfawsize': 1,\n",
       "         'emfasdize': 1,\n",
       "         'emffasize': 1,\n",
       "         'emfasihze': 1,\n",
       "         'dmfasize': 1,\n",
       "         'emfasizi': 1,\n",
       "         'emfasizeb': 1,\n",
       "         'ezmfasize': 1,\n",
       "         'emfasyze': 1,\n",
       "         'emfasive': 1,\n",
       "         'emfasibze': 1,\n",
       "         'emfasizei': 1,\n",
       "         'emfazize': 1,\n",
       "         'emfasizl': 1,\n",
       "         'emfafsize': 1,\n",
       "         'emfahsize': 1,\n",
       "         'ehmfasize': 1,\n",
       "         'emfasjize': 1,\n",
       "         'emfasized': 1,\n",
       "         'emfasizev': 1,\n",
       "         'emfaxize': 1,\n",
       "         'emfarsize': 1,\n",
       "         'emfasdze': 1,\n",
       "         'jmfasize': 1,\n",
       "         'ermfasize': 1,\n",
       "         'emfasizke': 1,\n",
       "         'emfasizae': 1,\n",
       "         'ewfasize': 1,\n",
       "         'emftsize': 1,\n",
       "         'ecmfasize': 1,\n",
       "         'emfxasize': 1,\n",
       "         'emfasgze': 1,\n",
       "         'emfasjze': 1,\n",
       "         'emfasizef': 1,\n",
       "         'kemfasize': 1,\n",
       "         'emfasixze': 1,\n",
       "         'emfafize': 1,\n",
       "         'iemfasize': 1,\n",
       "         'emfasfze': 1,\n",
       "         'emfbasize': 1,\n",
       "         'emfasile': 1,\n",
       "         'emfasite': 1,\n",
       "         'emfamize': 1,\n",
       "         'emfmsize': 1,\n",
       "         'eomfasize': 1,\n",
       "         'empasize': 1,\n",
       "         'eimfasize': 1,\n",
       "         'emfasizq': 1,\n",
       "         'emfiasize': 1,\n",
       "         'emfasizeh': 1,\n",
       "         'mefasize': 1,\n",
       "         'emfaeize': 1,\n",
       "         'emfasixe': 1,\n",
       "         'temfasize': 1,\n",
       "         'emfasizer': 1,\n",
       "         'ekfasize': 1,\n",
       "         'emfasizce': 1,\n",
       "         'umfasize': 1,\n",
       "         'emfasizeu': 1,\n",
       "         'emfwsize': 1,\n",
       "         'emfasine': 1,\n",
       "         'semfasize': 1,\n",
       "         'emfzasize': 1,\n",
       "         'remfasize': 1,\n",
       "         'emfasiize': 1,\n",
       "         'emfasxize': 1,\n",
       "         'emfasvze': 1,\n",
       "         'emfamsize': 1,\n",
       "         'bmfasize': 1,\n",
       "         'smfasize': 1,\n",
       "         'emfasizem': 1,\n",
       "         'hmfasize': 1,\n",
       "         'emfasiez': 1,\n",
       "         'emfaisize': 1,\n",
       "         'emxasize': 1,\n",
       "         'emfaxsize': 1,\n",
       "         'effasize': 1,\n",
       "         'emfasivze': 1,\n",
       "         'emfaize': 1,\n",
       "         'emkasize': 1,\n",
       "         'wmfasize': 1,\n",
       "         'emfagize': 1,\n",
       "         'emfaswize': 1,\n",
       "         'emfasnize': 1,\n",
       "         'emfvasize': 1,\n",
       "         'emfasizg': 1,\n",
       "         'emfqasize': 1,\n",
       "         'emfasiuze': 1,\n",
       "         'ejfasize': 1,\n",
       "         'emfaskze': 1,\n",
       "         'evfasize': 1,\n",
       "         'emfasiqe': 1,\n",
       "         'emafasize': 1,\n",
       "         'qemfasize': 1,\n",
       "         'emfasizc': 1,\n",
       "         'emfasuze': 1,\n",
       "         'emfosize': 1,\n",
       "         'emfaszize': 1,\n",
       "         'emfasizf': 1,\n",
       "         'emfaqize': 1,\n",
       "         'emfjasize': 1,\n",
       "         'emifasize': 1,\n",
       "         'emfasizr': 1,\n",
       "         'egmfasize': 1,\n",
       "         'emfasizpe': 1,\n",
       "         'emfasizse': 1,\n",
       "         'emfasifze': 1,\n",
       "         'emfaksize': 1,\n",
       "         'emfasiqze': 1,\n",
       "         'emfssize': 1,\n",
       "         'emfaslize': 1,\n",
       "         'emfaosize': 1,\n",
       "         'emfnasize': 1,\n",
       "         'emfysize': 1,\n",
       "         'emfasyize': 1,\n",
       "         'embasize': 1,\n",
       "         'emfasizeq': 1,\n",
       "         'emfashize': 1,\n",
       "         'aemfasize': 1,\n",
       "         'eqmfasize': 1,\n",
       "         'ebmfasize': 1,\n",
       "         'emaasize': 1,\n",
       "         'emfassize': 1,\n",
       "         'uemfasize': 1,\n",
       "         'emfaswze': 1,\n",
       "         'emfgsize': 1,\n",
       "         'emfaqsize': 1,\n",
       "         'emfadsize': 1,\n",
       "         'emiasize': 1,\n",
       "         'emfashze': 1,\n",
       "         'jemfasize': 1,\n",
       "         'emfkasize': 1,\n",
       "         'emfasaze': 1,\n",
       "         'emfassze': 1,\n",
       "         'emfhsize': 1,\n",
       "         'emfasizes': 1,\n",
       "         'emfaseize': 1,\n",
       "         'vmfasize': 1,\n",
       "         'emfasbze': 1,\n",
       "         'hemfasize': 1,\n",
       "         'zemfasize': 1,\n",
       "         'emeasize': 1,\n",
       "         'emfaysize': 1,\n",
       "         'emfasizve': 1,\n",
       "         'emlfasize': 1,\n",
       "         'emfascize': 1,\n",
       "         'emfasiue': 1,\n",
       "         'gmfasize': 1,\n",
       "         'yemfasize': 1,\n",
       "         'exfasize': 1,\n",
       "         'emfksize': 1,\n",
       "         'xmfasize': 1,\n",
       "         'emefasize': 1,\n",
       "         'kmfasize': 1,\n",
       "         'efmfasize': 1,\n",
       "         'imfasize': 1,\n",
       "         'emfasizej': 1,\n",
       "         'egfasize': 1,\n",
       "         'emfasizy': 1,\n",
       "         'emfusize': 1,\n",
       "         'emfabsize': 1,\n",
       "         'emfasiie': 1,\n",
       "         'emfasiwze': 1,\n",
       "         'nmfasize': 1,\n",
       "         'emfaspze': 1,\n",
       "         'emfhasize': 1,\n",
       "         'emfasizez': 1,\n",
       "         'emfaseze': 1,\n",
       "         'emfgasize': 1,\n",
       "         'ecfasize': 1,\n",
       "         'cemfasize': 1,\n",
       "         'emfoasize': 1,\n",
       "         'emoasize': 1,\n",
       "         'xemfasize': 1,\n",
       "         'emfasizde': 1,\n",
       "         'emfarize': 1,\n",
       "         'emfausize': 1,\n",
       "         'emfaskize': 1,\n",
       "         'ejmfasize': 1,\n",
       "         'emfaesize': 1,\n",
       "         'emfasizbe': 1,\n",
       "         'emfajize': 1,\n",
       "         'emfsize': 1,\n",
       "         'emfasgize': 1,\n",
       "         'emfalize': 1,\n",
       "         'emfasitze': 1,\n",
       "         'emfabize': 1,\n",
       "         'bemfasize': 1,\n",
       "         'gemfasize': 1,\n",
       "         'emfasizv': 1,\n",
       "         'emfsaize': 1,\n",
       "         'emfacsize': 1,\n",
       "         'emfasizqe': 1,\n",
       "         'emfasizwe': 1,\n",
       "         'wemfasize': 1,\n",
       "         'emfapsize': 1,\n",
       "         'emfasihe': 1,\n",
       "         'emflsize': 1,\n",
       "         'rmfasize': 1,\n",
       "         'emfbsize': 1,\n",
       "         'emfesize': 1,\n",
       "         'emfasizec': 1,\n",
       "         'emfajsize': 1,\n",
       "         'emsasize': 1,\n",
       "         'emfasmize': 1,\n",
       "         'emfzsize': 1,\n",
       "         'emfasizre': 1,\n",
       "         'emfavize': 1,\n",
       "         'emfasikze': 1,\n",
       "         'emfasizep': 1,\n",
       "         'emfmasize': 1,\n",
       "         'emhasize': 1,\n",
       "         'emfatsize': 1,\n",
       "         'emjasize': 1,\n",
       "         'enmfasize': 1,\n",
       "         'emqasize': 1,\n",
       "         'emfcsize': 1,\n",
       "         'emgfasize': 1,\n",
       "         'emfasbize': 1,\n",
       "         'emsfasize': 1,\n",
       "         'emfasizze': 1,\n",
       "         'etfasize': 1,\n",
       "         'emfasirze': 1,\n",
       "         'emfasiwe': 1,\n",
       "         'emfasizs': 1,\n",
       "         'emfasze': 1,\n",
       "         'eifasize': 1,\n",
       "         'emfastize': 1,\n",
       "         'emfasioze': 1,\n",
       "         'emfvsize': 1,\n",
       "         'emfasfize': 1,\n",
       "         'eefasize': 1,\n",
       "         'pmfasize': 1,\n",
       "         'emfasioe': 1,\n",
       "         'emfrasize': 1,\n",
       "         'emfanize': 1,\n",
       "         'emfauize': 1,\n",
       "         'emfasizb': 1,\n",
       "         'demfasize': 1,\n",
       "         'eafasize': 1,\n",
       "         'emfaslze': 1,\n",
       "         'emfasizh': 1,\n",
       "         'eymfasize': 1,\n",
       "         'emmasize': 1,\n",
       "         'emfuasize': 1,\n",
       "         'emfasoize': 1,\n",
       "         'emuasize': 1,\n",
       "         'emhfasize': 1,\n",
       "         'emlasize': 1,\n",
       "         'elmfasize': 1,\n",
       "         'emfasizn': 1,\n",
       "         'emfdsize': 1,\n",
       "         'emfakize': 1,\n",
       "         'emfsasize': 1,\n",
       "         'emfasice': 1,\n",
       "         'emfasidze': 1,\n",
       "         'empfasize': 1,\n",
       "         'enfasize': 1,\n",
       "         'emfaside': 1,\n",
       "         'eemfasize': 1,\n",
       "         'emfasigze': 1,\n",
       "         'emdfasize': 1,\n",
       "         'emfasizw': 1,\n",
       "         'emfasibe': 1,\n",
       "         'mmfasize': 1,\n",
       "         'emfasizz': 1,\n",
       "         'emwfasize': 1,\n",
       "         'emfasizey': 1,\n",
       "         'emfasizm': 1,\n",
       "         'emfaszze': 1,\n",
       "         'emvasize': 1,\n",
       "         'emasize': 1,\n",
       "         'emfasie': 1,\n",
       "         'emfastze': 1,\n",
       "         'ehfasize': 1,\n",
       "         'emfpsize': 1,\n",
       "         'eumfasize': 1,\n",
       "         'vemfasize': 1,\n",
       "         'emfasrze': 1,\n",
       "         'emfasizex': 1,\n",
       "         'emfisize': 1,\n",
       "         'emfasizte': 1,\n",
       "         'emfasieze': 1,\n",
       "         'emfasijze': 1,\n",
       "         'emfasizye': 1,\n",
       "         'emfasizea': 1,\n",
       "         'lmfasize': 1,\n",
       "         'emfascze': 1,\n",
       "         'pemfasize': 1,\n",
       "         'memfasize': 1,\n",
       "         'emafsize': 1,\n",
       "         'emfasaize': 1,\n",
       "         'emfasizel': 1,\n",
       "         'emufasize': 1,\n",
       "         'emfasise': 1,\n",
       "         'emfasife': 1,\n",
       "         'emfasige': 1,\n",
       "         'emfasipze': 1,\n",
       "         'emfadize': 1,\n",
       "         'emfasizk': 1,\n",
       "         'emfayize': 1,\n",
       "         'esmfasize': 1,\n",
       "         'emfalsize': 1,\n",
       "         'qmfasize': 1,\n",
       "         'emfeasize': 1,\n",
       "         'emwasize': 1,\n",
       "         'emfasizew': 1,\n",
       "         'emfasizx': 1,\n",
       "         'fmfasize': 1,\n",
       "         'emrfasize': 1,\n",
       "         'emfasije': 1,\n",
       "         'amfasize': 1,\n",
       "         'embfasize': 1,\n",
       "         'nemfasize': 1,\n",
       "         'exmfasize': 1,\n",
       "         'emfasizoe': 1,\n",
       "         'emfasizxe': 1,\n",
       "         'emfasizt': 1,\n",
       "         'emnfasize': 1,\n",
       "         'emfasvize': 1,\n",
       "         'ekmfasize': 1,\n",
       "         'emfasizu': 1,\n",
       "         'emfaasize': 1,\n",
       "         'emnasize': 1,\n",
       "         'lemfasize': 1,\n",
       "         'emfasiz': 1,\n",
       "         'emfpasize': 1,\n",
       "         'emfaiize': 1,\n",
       "         'ebfasize': 1,\n",
       "         'erfasize': 1,\n",
       "         'cmfasize': 1,\n",
       "         'emfasizme': 1,\n",
       "         'emffsize': 1,\n",
       "         'epmfasize': 1,\n",
       "         'emfasizo': 1,\n",
       "         'emcasize': 1,\n",
       "         'emfapize': 1,\n",
       "         'emzfasize': 1,\n",
       "         'emfasisze': 1,\n",
       "         'emrasize': 1,\n",
       "         'emfansize': 1,\n",
       "         'emfaisze': 1,\n",
       "         'emfjsize': 1,\n",
       "         'emfcasize': 1,\n",
       "         'emfasime': 1,\n",
       "         'emfasicze': 1,\n",
       "         'emfasizge': 1,\n",
       "         'emzasize': 1,\n",
       "         'emfwasize': 1,\n",
       "         'emfasqze': 1,\n",
       "         'emfazsize': 1,\n",
       "         'emfasike': 1,\n",
       "         'emfasizp': 1,\n",
       "         'emfasizhe': 1,\n",
       "         'tmfasize': 1,\n",
       "         'emfasnze': 1,\n",
       "         'emfasqize': 1,\n",
       "         'emfawize': 1,\n",
       "         'emfacize': 1,\n",
       "         'emfasilze': 1,\n",
       "         'emfnsize': 1,\n",
       "         'emfasizue': 1,\n",
       "         'emfaaize': 1,\n",
       "         'emtasize': 1,\n",
       "         'emfxsize': 1,\n",
       "         'emfasizj': 1,\n",
       "         'emfasiye': 1,\n",
       "         'oemfasize': 1,\n",
       "         'elfasize': 1,\n",
       "         'emfasize': 1,\n",
       "         'emfagsize': 1,\n",
       "         'emflasize': 1,\n",
       "         'epfasize': 1,\n",
       "         'emfasizen': 1,\n",
       "         'emxfasize': 1,\n",
       "         'eofasize': 1,\n",
       "         'evmfasize': 1,\n",
       "         'edfasize': 1,\n",
       "         'emcfasize': 1,\n",
       "         'emfasizee': 1,\n",
       "         'emfavsize': 1,\n",
       "         'ewmfasize': 1,\n",
       "         'emfaszie': 1,\n",
       "         'emfasizle': 1,\n",
       "         'emfasuize': 1,\n",
       "         'emfyasize': 1,\n",
       "         'emofasize': 1,\n",
       "         'emmfasize': 1,\n",
       "         'emdasize': 1,\n",
       "         'omfasize': 1,\n",
       "         'eqfasize': 1,\n",
       "         'emfrsize': 1,\n",
       "         'emfasiee': 1,\n",
       "         'efmasize': 1,\n",
       "         'mfasize': 1,\n",
       "         'emfasimze': 1,\n",
       "         'emftasize': 1,\n",
       "         'emfasizie': 1,\n",
       "         'emfasizek': 1,\n",
       "         'emfasiaze': 1,\n",
       "         'emfasiyze': 1,\n",
       "         'emvfasize': 1,\n",
       "         'ymfasize': 1,\n",
       "         'emfasizne': 1,\n",
       "         'emfasiza': 1,\n",
       "         'emfasizeo': 1,\n",
       "         'zmfasize': 1,\n",
       "         'emtfasize': 1,\n",
       "         'etmfasize': 1,\n",
       "         'emfdasize': 1,\n",
       "         'emfasmze': 1})"
      ]
     },
     "execution_count": 48,
     "metadata": {},
     "output_type": "execute_result"
    }
   ],
   "source": [
    "Counter(lst)"
   ]
  },
  {
   "cell_type": "code",
   "execution_count": 49,
   "metadata": {},
   "outputs": [
    {
     "data": {
      "text/plain": [
       "{'emphasize'}"
      ]
     },
     "execution_count": 49,
     "metadata": {},
     "output_type": "execute_result"
    }
   ],
   "source": [
    "possible_corrections('emfasize')"
   ]
  },
  {
   "cell_type": "code",
   "execution_count": null,
   "metadata": {},
   "outputs": [],
   "source": []
  }
 ],
 "metadata": {
  "kernelspec": {
   "display_name": "Python 3",
   "language": "python",
   "name": "python3"
  },
  "language_info": {
   "codemirror_mode": {
    "name": "ipython",
    "version": 3
   },
   "file_extension": ".py",
   "mimetype": "text/x-python",
   "name": "python",
   "nbconvert_exporter": "python",
   "pygments_lexer": "ipython3",
   "version": "3.7.1"
  }
 },
 "nbformat": 4,
 "nbformat_minor": 2
}
